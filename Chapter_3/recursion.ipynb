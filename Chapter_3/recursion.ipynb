{
 "cells": [
  {
   "attachments": {},
   "cell_type": "markdown",
   "metadata": {},
   "source": [
    "## Import libs"
   ]
  },
  {
   "cell_type": "code",
   "execution_count": 1,
   "metadata": {},
   "outputs": [],
   "source": [
    "import numpy as np\n",
    "import plotly.figure_factory as ff\n",
    "import plotly.graph_objects as go\n",
    "import plotly.express as px"
   ]
  },
  {
   "attachments": {},
   "cell_type": "markdown",
   "metadata": {},
   "source": [
    "## Recursion\n",
    "---\n",
    "Recursive function has two parts: the base case and the recursive case.\n",
    "\n",
    "The recursive case is when the function calls itself\n",
    "\n",
    "The base case is when the function doesn't call itself again"
   ]
  },
  {
   "cell_type": "code",
   "execution_count": 2,
   "metadata": {},
   "outputs": [],
   "source": [
    "def countdown(i):\n",
    "    print(i)\n",
    "    if i <= 0:  # Base case\n",
    "        return\n",
    "    else:       # Rercusive case\n",
    "        countdown(i-1)"
   ]
  },
  {
   "attachments": {},
   "cell_type": "markdown",
   "metadata": {},
   "source": [
    "## Exercise\n",
    "---\n",
    "\n",
    "3.1 Suppose I show you a call stack like this... What information can you give me, just based on this call stack?...\n",
    "\n",
    "> *Answer*: The function 'greet' with variable `name` contain value 'Maggie', calling a function 'greet2' with variable `name` contain value 'Maggie'\n",
    "\n",
    "> **Result**:\n",
    "> * The `greet` function is called first, with `name = maggie`\n",
    "> * Then the `greet` function calls the `greets` function, with `name = maggie`.\n",
    "> * At this point, the `greet` function is in an incomplete, suspended state.\n",
    "> * The current function call is the `greet2` function.\n",
    "> * After this function call completes, the `greet` function will resume."
   ]
  },
  {
   "cell_type": "code",
   "execution_count": 3,
   "metadata": {},
   "outputs": [],
   "source": [
    "def factorial(x):\n",
    "    if x == 1:\n",
    "        return 1\n",
    "    else:\n",
    "        return x * factorial(x-1)"
   ]
  },
  {
   "attachments": {},
   "cell_type": "markdown",
   "metadata": {},
   "source": [
    "## Exercise\n",
    "---\n",
    "3.2 Suppose you accidentally write a recursive function that runs\n",
    "forever. As you saw, your computer allocates memory on the\n",
    "stack for each function call. What happens to the stack when your\n",
    "recursive function runs forever?\n",
    "\n",
    "> *Answer*: The stack will keep stacking forever, until computer's memory can't saving information, you will run into RunTimeError\n",
    "\n",
    "> **Result**: The stack grows forever. Each program has a limited amount of space on the call stack. When your program runs out of space, it will exit with a stackoverflow error"
   ]
  },
  {
   "attachments": {},
   "cell_type": "markdown",
   "metadata": {},
   "source": [
    "## Recap\n",
    "---\n",
    "* Recursion is when a functions calls itself.\n",
    "* Every recursive function has two case: the base case and the recursive case.\n",
    "* A stack has two operations: push and pop.\n",
    "* All function calls go onto the call stack.\n",
    "* The call stack can get very large, which takes up a lot of memory."
   ]
  }
 ],
 "metadata": {
  "kernelspec": {
   "display_name": "_work",
   "language": "python",
   "name": "python3"
  },
  "language_info": {
   "codemirror_mode": {
    "name": "ipython",
    "version": 3
   },
   "file_extension": ".py",
   "mimetype": "text/x-python",
   "name": "python",
   "nbconvert_exporter": "python",
   "pygments_lexer": "ipython3",
   "version": "3.8.13"
  },
  "orig_nbformat": 4,
  "vscode": {
   "interpreter": {
    "hash": "cf1d69bb0d2a12e61490889161fcacd2800262e0ab5a40aa691e442a23156cde"
   }
  }
 },
 "nbformat": 4,
 "nbformat_minor": 2
}
