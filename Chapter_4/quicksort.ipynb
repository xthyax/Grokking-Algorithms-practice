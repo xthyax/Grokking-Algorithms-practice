{
 "cells": [
  {
   "attachments": {},
   "cell_type": "markdown",
   "metadata": {},
   "source": [
    "## Import libs"
   ]
  },
  {
   "cell_type": "code",
   "execution_count": 1,
   "metadata": {},
   "outputs": [],
   "source": [
    "import numpy as np\n",
    "\n",
    "import plotly.figure_factory as ff\n",
    "import plotly.graph_objects as go\n",
    "import plotly.express as px"
   ]
  },
  {
   "attachments": {},
   "cell_type": "markdown",
   "metadata": {},
   "source": [
    "## Exercies\n",
    "---\n",
    "4.1 Write out the code for the earlier sum function.\n",
    "> *Answer*:"
   ]
  },
  {
   "cell_type": "code",
   "execution_count": 2,
   "metadata": {},
   "outputs": [
    {
     "data": {
      "text/plain": [
       "12"
      ]
     },
     "execution_count": 2,
     "metadata": {},
     "output_type": "execute_result"
    }
   ],
   "source": [
    "def sum_recursion(l_):\n",
    "    \"\"\" \n",
    "    total = 0\n",
    "    if len(l_) - 1 > 0:\n",
    "        total = l_[0] + sum_recursion(l_[1:])\n",
    "    else:\n",
    "        return l_[0]\n",
    "\n",
    "    return total\n",
    "    \"\"\"\n",
    "    return (l_[0] + sum_recursion(l_[1:]) \n",
    "    if len(l_) - 1 > 0 else l_[0])\n",
    "\n",
    "my_list = [2,4,6]\n",
    "sum_recursion(my_list) "
   ]
  },
  {
   "attachments": {},
   "cell_type": "markdown",
   "metadata": {},
   "source": [
    "> **Result**:"
   ]
  },
  {
   "cell_type": "code",
   "execution_count": 3,
   "metadata": {},
   "outputs": [
    {
     "data": {
      "text/plain": [
       "12"
      ]
     },
     "execution_count": 3,
     "metadata": {},
     "output_type": "execute_result"
    }
   ],
   "source": [
    "def sum_func(l_):\n",
    "    if l_ == []:\n",
    "        return 0\n",
    "    return l_[0] + sum_func(l_[1:])\n",
    "\n",
    "sum_func(my_list)"
   ]
  },
  {
   "attachments": {},
   "cell_type": "markdown",
   "metadata": {},
   "source": [
    "4.2 Write a recursive function to count the number of items in a list"
   ]
  },
  {
   "attachments": {},
   "cell_type": "markdown",
   "metadata": {},
   "source": [
    "> *Answer*:"
   ]
  },
  {
   "cell_type": "code",
   "execution_count": 4,
   "metadata": {},
   "outputs": [
    {
     "data": {
      "text/plain": [
       "3"
      ]
     },
     "execution_count": 4,
     "metadata": {},
     "output_type": "execute_result"
    }
   ],
   "source": [
    "def len_recursion(l_):\n",
    "    return 1 + len_recursion(l_[1:]) if l_ != [] else 0\n",
    "\n",
    "len_recursion(my_list)"
   ]
  },
  {
   "attachments": {},
   "cell_type": "markdown",
   "metadata": {},
   "source": [
    "> **Result**:"
   ]
  },
  {
   "cell_type": "code",
   "execution_count": 5,
   "metadata": {},
   "outputs": [
    {
     "data": {
      "text/plain": [
       "3"
      ]
     },
     "execution_count": 5,
     "metadata": {},
     "output_type": "execute_result"
    }
   ],
   "source": [
    "def count_func(l_):\n",
    "    if l_ == []:\n",
    "        return 0\n",
    "    return 1 + count_func(l_[1:])\n",
    "\n",
    "count_func(my_list)"
   ]
  },
  {
   "attachments": {},
   "cell_type": "markdown",
   "metadata": {},
   "source": [
    "4.3 Find the maximum number in a list\n",
    "> *Answer*:"
   ]
  },
  {
   "cell_type": "code",
   "execution_count": 6,
   "metadata": {},
   "outputs": [
    {
     "data": {
      "text/plain": [
       "6"
      ]
     },
     "execution_count": 6,
     "metadata": {},
     "output_type": "execute_result"
    }
   ],
   "source": [
    "def max_recursion(l_):\n",
    "    if len(l_) == 1:\n",
    "        return l_[0]\n",
    "    else:\n",
    "        m = max_recursion(l_[1:])\n",
    "        return m if m > l_[0] else l_[0]\n",
    "\n",
    "max_recursion(my_list)"
   ]
  },
  {
   "attachments": {},
   "cell_type": "markdown",
   "metadata": {},
   "source": [
    "> **Result**:"
   ]
  },
  {
   "cell_type": "code",
   "execution_count": 7,
   "metadata": {},
   "outputs": [
    {
     "data": {
      "text/plain": [
       "6"
      ]
     },
     "execution_count": 7,
     "metadata": {},
     "output_type": "execute_result"
    }
   ],
   "source": [
    "def max_func(l_):\n",
    "    if len(l_) == 2:\n",
    "        return l_[0] if l_[0] > l_[1] else l_[1]\n",
    "    sub_max = max_func(l_[1:])\n",
    "    return l_[0] if l_[0] > sub_max else sub_max\n",
    "\n",
    "max_func(my_list)"
   ]
  },
  {
   "attachments": {},
   "cell_type": "markdown",
   "metadata": {},
   "source": [
    "4.4 Remember binary search from chapter 1? It’s a divide-and-conquer\n",
    "algorithm, too. Can you come up with the base case and recursive\n",
    "case for binary search?\n",
    "> *Answer*:"
   ]
  },
  {
   "cell_type": "code",
   "execution_count": 8,
   "metadata": {},
   "outputs": [
    {
     "name": "stdout",
     "output_type": "stream",
     "text": [
      "[0, 1, 2, 3, 4, 5, 6, 7, 8, 9, 10]\n"
     ]
    },
    {
     "data": {
      "text/plain": [
       "2"
      ]
     },
     "execution_count": 8,
     "metadata": {},
     "output_type": "execute_result"
    }
   ],
   "source": [
    "def binary_search_recursion(l_, item, low, high):\n",
    "    if high >= low:\n",
    "        mid = low + (high - low) // 2\n",
    "\n",
    "        if l_[mid] == item:\n",
    "            return mid\n",
    "        \n",
    "        elif item > l_[mid]:\n",
    "            return binary_search_recursion(l_, item, mid+1, high)\n",
    "\n",
    "        else:\n",
    "            return binary_search_recursion(l_, item, low, mid-1)\n",
    "\n",
    "    else:\n",
    "        return None\n",
    "\n",
    "my_l = np.arange(0, 11).tolist()\n",
    "print(my_l)\n",
    "binary_search_recursion(my_l, 2, 0, len(my_l)-1)\n",
    "    "
   ]
  },
  {
   "attachments": {},
   "cell_type": "markdown",
   "metadata": {},
   "source": [
    "> **Result**: The base case for binary search is an array with one item. If the item you're lookng for matches the item in the array, you found it! Otherwise, it isn't in the array\n",
    ">\n",
    "> In the recursive case for binary search, you split the array in half, throw away one half, and call binary search on the other half."
   ]
  },
  {
   "attachments": {},
   "cell_type": "markdown",
   "metadata": {},
   "source": [
    "## Quicksort"
   ]
  },
  {
   "cell_type": "code",
   "execution_count": 9,
   "metadata": {},
   "outputs": [
    {
     "name": "stdout",
     "output_type": "stream",
     "text": [
      "[10, 5, 3, 2]\n"
     ]
    }
   ],
   "source": [
    "def quicksort(array):\n",
    "    if len(array) < 2:\n",
    "        return array\n",
    "\n",
    "    else:\n",
    "        pivot = array[0]\n",
    "        less = [i for i in array[1:] if i <= pivot]\n",
    "        greater = [i for i in array[1:] if i > pivot]\n",
    "\n",
    "        return quicksort(greater) + [pivot] + quicksort(less)\n",
    "\n",
    "my_list = [10, 5, 2, 3]\n",
    "print(quicksort(my_list))"
   ]
  },
  {
   "attachments": {},
   "cell_type": "markdown",
   "metadata": {},
   "source": [
    "## Exercises\n",
    "---\n",
    "How long would each of these operations take in Big O notation\n",
    "\n",
    "4.5 Printing the value of each element in an array\n",
    "> *Answer*: $O(n)$\n",
    ">\n",
    "> **Result**: $O(n)$\n",
    "\n",
    "4.6 Doubling the value of each element in an array\n",
    "> *Answer*: $O(n)$\n",
    ">\n",
    "> **Result**: $O(n)$\n",
    "\n",
    "4.7 Doubling the value of just the first element in an array\n",
    "> *Answer*: $O(1)$\n",
    ">\n",
    "> **Result**: $O(1)$\n",
    "\n",
    "4.8 Creating a multiplication table with all the elements in the array. So if your array is [2,3,7,8,10], you first multiply every element by 2, then multiply every element by 3, then by 7, and so on.\n",
    "> *Answer*: $O(n^2)$\n",
    ">\n",
    "> **Result**: $O(n^2)$\n"
   ]
  },
  {
   "attachments": {},
   "cell_type": "markdown",
   "metadata": {},
   "source": [
    "## Recap\n",
    "---\n",
    "* D&C work by breaking a problem down into smaller and smaller pieces. If you're using D&C on a list, the base case is probably an empty array or an array with one element.\n",
    "* If you're implementing quicksort, choose a random element as the pivot. The average runtime of quicksort is $O(n\\log n)!$\n",
    "* The constant in Big O notation can matter sometimes. That's why quicksort is faster than merge sort.\n",
    "* The constant almost never matters for simple search versus binary search, because $O(\\log n)$ is much faster than $O(n)$ when your list gets big."
   ]
  }
 ],
 "metadata": {
  "kernelspec": {
   "display_name": "_work",
   "language": "python",
   "name": "python3"
  },
  "language_info": {
   "codemirror_mode": {
    "name": "ipython",
    "version": 3
   },
   "file_extension": ".py",
   "mimetype": "text/x-python",
   "name": "python",
   "nbconvert_exporter": "python",
   "pygments_lexer": "ipython3",
   "version": "3.8.13"
  },
  "orig_nbformat": 4,
  "vscode": {
   "interpreter": {
    "hash": "6c638eb89f014b66b0d27c9448b9f799964500fae236ec6ed42d746cec1b1ef2"
   }
  }
 },
 "nbformat": 4,
 "nbformat_minor": 2
}
