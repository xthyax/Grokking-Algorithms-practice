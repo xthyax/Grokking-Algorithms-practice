{
 "cells": [
  {
   "attachments": {},
   "cell_type": "markdown",
   "metadata": {},
   "source": [
    "## Import libs"
   ]
  },
  {
   "cell_type": "code",
   "execution_count": 1,
   "metadata": {},
   "outputs": [],
   "source": [
    "import numpy as np\n",
    "\n",
    "import plotly.figure_factory as ff\n",
    "import plotly.graph_objects as go\n",
    "import plotly.express as px"
   ]
  },
  {
   "attachments": {},
   "cell_type": "markdown",
   "metadata": {},
   "source": [
    "## Exercies\n",
    "---\n",
    "4.1 Write out the code for the earlier sum function.\n",
    "> *Answer*:"
   ]
  },
  {
   "cell_type": "code",
   "execution_count": 10,
   "metadata": {},
   "outputs": [
    {
     "data": {
      "text/plain": [
       "12"
      ]
     },
     "execution_count": 10,
     "metadata": {},
     "output_type": "execute_result"
    }
   ],
   "source": [
    "def sum_recursion(l_):\n",
    "    \"\"\" \n",
    "    total = 0\n",
    "    if len(l_) - 1 > 0:\n",
    "        total = l_[0] + sum_recursion(l_[1:])\n",
    "    else:\n",
    "        return l_[0]\n",
    "\n",
    "    return total\n",
    "    \"\"\"\n",
    "    return (l_[0] + sum_recursion(l_[1:]) \n",
    "    if len(l_) - 1 > 0 else l_[0])\n",
    "\n",
    "my_list = [2,4,6]\n",
    "sum_recursion(my_list) "
   ]
  },
  {
   "attachments": {},
   "cell_type": "markdown",
   "metadata": {},
   "source": [
    "4.2 Write a recursive function to count the number of items in a list"
   ]
  },
  {
   "attachments": {},
   "cell_type": "markdown",
   "metadata": {},
   "source": [
    "> *Answer*:"
   ]
  },
  {
   "cell_type": "code",
   "execution_count": 18,
   "metadata": {},
   "outputs": [
    {
     "data": {
      "text/plain": [
       "3"
      ]
     },
     "execution_count": 18,
     "metadata": {},
     "output_type": "execute_result"
    }
   ],
   "source": [
    "def len_recursion(l_):\n",
    "    return 1 + len_recursion(l_[1:]) if l_ != [] else 0\n",
    "\n",
    "len_recursion(my_list)"
   ]
  },
  {
   "attachments": {},
   "cell_type": "markdown",
   "metadata": {},
   "source": [
    "4.3 Find the maximum number in a list\n",
    "> *Answer*:"
   ]
  },
  {
   "cell_type": "code",
   "execution_count": 19,
   "metadata": {},
   "outputs": [
    {
     "data": {
      "text/plain": [
       "6"
      ]
     },
     "execution_count": 19,
     "metadata": {},
     "output_type": "execute_result"
    }
   ],
   "source": [
    "def max_recursion(l_):\n",
    "    if len(l_) == 1:\n",
    "        return l_[0]\n",
    "    else:\n",
    "        m = max_recursion(l_[1:])\n",
    "        return m if m > l_[0] else l_[0]\n",
    "\n",
    "max_recursion(my_list)"
   ]
  },
  {
   "attachments": {},
   "cell_type": "markdown",
   "metadata": {},
   "source": [
    "4.4 Remember binary search from chapter 1? It’s a divide-and-conquer\n",
    "algorithm, too. Can you come up with the base case and recursive\n",
    "case for binary search?"
   ]
  },
  {
   "cell_type": "code",
   "execution_count": 25,
   "metadata": {},
   "outputs": [
    {
     "name": "stdout",
     "output_type": "stream",
     "text": [
      "[0, 1, 2, 3, 4, 5, 6, 7, 8, 9, 10]\n"
     ]
    },
    {
     "data": {
      "text/plain": [
       "2"
      ]
     },
     "execution_count": 25,
     "metadata": {},
     "output_type": "execute_result"
    }
   ],
   "source": [
    "def binary_search_recursion(l_, item, low, high):\n",
    "    if high >= low:\n",
    "        mid = low + (high - low) // 2\n",
    "\n",
    "        if l_[mid] == item:\n",
    "            return mid\n",
    "        \n",
    "        elif item > l_[mid]:\n",
    "            return binary_search_recursion(l_, item, mid+1, high)\n",
    "\n",
    "        else:\n",
    "            return binary_search_recursion(l_, item, low, mid-1)\n",
    "\n",
    "    else:\n",
    "        return None\n",
    "\n",
    "my_l = np.arange(0, 11).tolist()\n",
    "print(my_l)\n",
    "binary_search_recursion(my_l, 2, 0, len(my_l)-1)\n",
    "    "
   ]
  }
 ],
 "metadata": {
  "kernelspec": {
   "display_name": "_work",
   "language": "python",
   "name": "python3"
  },
  "language_info": {
   "codemirror_mode": {
    "name": "ipython",
    "version": 3
   },
   "file_extension": ".py",
   "mimetype": "text/x-python",
   "name": "python",
   "nbconvert_exporter": "python",
   "pygments_lexer": "ipython3",
   "version": "3.8.13"
  },
  "orig_nbformat": 4,
  "vscode": {
   "interpreter": {
    "hash": "cf1d69bb0d2a12e61490889161fcacd2800262e0ab5a40aa691e442a23156cde"
   }
  }
 },
 "nbformat": 4,
 "nbformat_minor": 2
}
