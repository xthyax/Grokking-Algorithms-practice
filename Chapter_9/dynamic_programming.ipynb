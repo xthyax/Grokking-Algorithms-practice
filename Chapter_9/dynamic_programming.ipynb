{
 "cells": [
  {
   "cell_type": "code",
   "execution_count": 5,
   "metadata": {},
   "outputs": [],
   "source": [
    "from IPython.display import display\n",
    "import pandas as pd"
   ]
  },
  {
   "attachments": {},
   "cell_type": "markdown",
   "metadata": {},
   "source": [
    "## The knapsack problem\n",
    "---\n",
    "* Guitar: $1500 - 1lb\n",
    "* Stereo: $3000 - 4lb\n",
    "* Laptop: $2000 - 3lb\n",
    "* Iphone: $2000 - 1lb\n",
    "\n",
    "|Knapsack|1 lb|2 lb|3 lb|4 lb|\n",
    "|-|-|-|-|-|\n",
    "|Guitar|$1500 G|$1500 G|$1500 G|$1500 G|\n",
    "|Stero|$1500 G|$1500 G|$1500 G|$3000 S|\n",
    "|Laptop|$1500 G|$1500 G|$2000 L|$3500 LG|\n",
    "|Iphone|$2000 I|$3500 IG|$3500 IG|$4000 IL|"
   ]
  },
  {
   "attachments": {},
   "cell_type": "markdown",
   "metadata": {},
   "source": [
    "## Exercises\n",
    "---\n",
    "9.1 Suppose you can steal ... weighs 1lb and is worth $1000. Should you steal it?\n",
    "> <u>*Answer*</u>: No, cause if you can carry 1 lb more, you should consider the Guitar which is at the same weighs but higher value\n",
    ">\n",
    "> **Result**: Yes. Then you could steal the MP3 player, the iPhone, and the guitar, worth a total of $4,500.\n",
    "\n",
    "9.2 Suppose you're going camping...a knapsack that will hold 6 lb ... Each has a value, and the higher the value, the more important the item is:\n",
    "* Water, 3 lb, 10\n",
    "* Book, 1 lb, 3\n",
    "* Food, 2 lb, 9\n",
    "* Jacket, 2 lb, 5\n",
    "* Camera, 1 lb, 6\n",
    "\n",
    "What's the optimal set of items...\n",
    "> <u>*Answer*</u>:\n",
    "> * Water, 3 lb\n",
    "> * Food, 2 lb\n",
    "> * Camera, 1 lb\n",
    ">\n",
    "> **Result**: You should take water, food, and a camera"
   ]
  },
  {
   "cell_type": "code",
   "execution_count": 14,
   "metadata": {},
   "outputs": [
    {
     "data": {
      "text/html": [
       "<div>\n",
       "<style scoped>\n",
       "    .dataframe tbody tr th:only-of-type {\n",
       "        vertical-align: middle;\n",
       "    }\n",
       "\n",
       "    .dataframe tbody tr th {\n",
       "        vertical-align: top;\n",
       "    }\n",
       "\n",
       "    .dataframe thead th {\n",
       "        text-align: right;\n",
       "    }\n",
       "</style>\n",
       "<table border=\"1\" class=\"dataframe\">\n",
       "  <thead>\n",
       "    <tr style=\"text-align: right;\">\n",
       "      <th></th>\n",
       "      <th>c</th>\n",
       "      <th>l</th>\n",
       "      <th>u</th>\n",
       "      <th>e</th>\n",
       "      <th>s</th>\n",
       "    </tr>\n",
       "  </thead>\n",
       "  <tbody>\n",
       "    <tr>\n",
       "      <th>b</th>\n",
       "      <td>0</td>\n",
       "      <td>0</td>\n",
       "      <td>0</td>\n",
       "      <td>0</td>\n",
       "      <td>0</td>\n",
       "    </tr>\n",
       "    <tr>\n",
       "      <th>l</th>\n",
       "      <td>0</td>\n",
       "      <td>1</td>\n",
       "      <td>1</td>\n",
       "      <td>1</td>\n",
       "      <td>1</td>\n",
       "    </tr>\n",
       "    <tr>\n",
       "      <th>u</th>\n",
       "      <td>0</td>\n",
       "      <td>1</td>\n",
       "      <td>2</td>\n",
       "      <td>2</td>\n",
       "      <td>2</td>\n",
       "    </tr>\n",
       "    <tr>\n",
       "      <th>e</th>\n",
       "      <td>0</td>\n",
       "      <td>1</td>\n",
       "      <td>2</td>\n",
       "      <td>3</td>\n",
       "      <td>3</td>\n",
       "    </tr>\n",
       "  </tbody>\n",
       "</table>\n",
       "</div>"
      ],
      "text/plain": [
       "   c  l  u  e  s\n",
       "b  0  0  0  0  0\n",
       "l  0  1  1  1  1\n",
       "u  0  1  2  2  2\n",
       "e  0  1  2  3  3"
      ]
     },
     "metadata": {},
     "output_type": "display_data"
    }
   ],
   "source": [
    "word_a, word_b = 'fish', 'fosh'\n",
    "word_a, word_b = 'blue', 'clues'\n",
    "cell = [[0]* len(word_b) for _ in range(len(word_a))]\n",
    "for i in range(len(word_a)):\n",
    "    for j in range(len(word_b)):\n",
    "        if word_a[i] == word_b[j]:\n",
    "            cell[i][j] = cell[i-1][j-1] + 1\n",
    "        else:\n",
    "            # cell[i][j] = 0 # => Longest common substring\n",
    "            cell[i][j] = max(cell[i-1][j], cell[i][j-1]) # => Longest common subsequence\n",
    "cell = pd.DataFrame(\n",
    "    cell, \n",
    "    columns=list(word_b), \n",
    "    index=list(word_a)\n",
    ")\n",
    "display(cell)"
   ]
  },
  {
   "attachments": {},
   "cell_type": "markdown",
   "metadata": {},
   "source": [
    "## Exercise\n",
    "---\n",
    "9.3 Draw and fill in the grid to calculate the longest common substring between *blue* and *clues*\n",
    "> <u>*Answer*</u>:\n",
    "\n",
    "| |c|l|u|e|s|\n",
    "|-|-|-|-|-|-|\n",
    "|b|0|0|0|0|0|\n",
    "|l|0|1|1|1|1|\n",
    "|u|0|1|2|2|2|\n",
    "|e|0|1|2|3|3|\n",
    "\n",
    "> **Result**:\n",
    "\n",
    "| |c|l|u|e|s|\n",
    "|-|-|-|-|-|-|\n",
    "|b|0|0|0|0|0|\n",
    "|l|0|1|0|0|0|\n",
    "|u|0|0|2|0|0|\n",
    "|e|0|0|0|3|0|"
   ]
  },
  {
   "attachments": {},
   "cell_type": "markdown",
   "metadata": {},
   "source": [
    "## Recap\n",
    "---\n",
    "* Dynamic programming is useful when you're trying to optimize something given a constraint.\n",
    "* You can use dynamic programming when the problem can be broken into discrete subproblems.\n",
    "* Every dynamic-programming solution involves a grid.\n",
    "* The values in the cells are usually what you're trying to optimize.\n",
    "* Each cell is a subproblem, so think about how you can divide your problem into subproblems.\n",
    "* There's no single formula for calculating a dynamic-programming solution."
   ]
  }
 ],
 "metadata": {
  "kernelspec": {
   "display_name": "_work",
   "language": "python",
   "name": "python3"
  },
  "language_info": {
   "codemirror_mode": {
    "name": "ipython",
    "version": 3
   },
   "file_extension": ".py",
   "mimetype": "text/x-python",
   "name": "python",
   "nbconvert_exporter": "python",
   "pygments_lexer": "ipython3",
   "version": "3.8.13"
  },
  "orig_nbformat": 4,
  "vscode": {
   "interpreter": {
    "hash": "cf1d69bb0d2a12e61490889161fcacd2800262e0ab5a40aa691e442a23156cde"
   }
  }
 },
 "nbformat": 4,
 "nbformat_minor": 2
}
