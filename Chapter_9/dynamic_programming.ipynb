{
 "cells": [
  {
   "attachments": {},
   "cell_type": "markdown",
   "metadata": {},
   "source": [
    "## The knapsack problem\n",
    "---\n",
    "Guitar: $1500 - 1lb\n",
    "Stereo: $3000 - 3lb\n",
    "Laptop: $2000 - 2lb\n",
    "Iphone: $2000 - 1lb\n",
    "\n",
    "|Knapsack|1 lb|2 lb|3 lb|4 lb|\n",
    "|-|-|-|-|-|\n",
    "|Guitar|$1500 G|$1500 G|$1500 G|$1500 G|\n",
    "|Stero|$1500 G|$1500 G|$1500 G|$3000 S|\n",
    "|Laptop|$1500 G|$1500 G|$2000 L|$3500 LG|\n",
    "|Iphone|$2000 I|$3500 IG|$3500 IG|$4000 IL|"
   ]
  }
 ],
 "metadata": {
  "language_info": {
   "name": "python"
  },
  "orig_nbformat": 4
 },
 "nbformat": 4,
 "nbformat_minor": 2
}
