{
 "cells": [
  {
   "attachments": {},
   "cell_type": "markdown",
   "metadata": {},
   "source": [
    "### Import libs"
   ]
  },
  {
   "cell_type": "code",
   "execution_count": 1,
   "metadata": {},
   "outputs": [],
   "source": [
    "import numpy as np\n",
    "import plotly.figure_factory as ff\n",
    "import plotly.graph_objects as go\n",
    "import plotly.express as px"
   ]
  },
  {
   "attachments": {},
   "cell_type": "markdown",
   "metadata": {},
   "source": [
    "## Arrays and linked lists\n",
    "---\n",
    "- Arrays: is a list of elements `have address right next to the orders` in memory\n",
    "- Linked lists: `elements can be anywhere` in memory, cause the `current element` will `contain the address of the next element`."
   ]
  },
  {
   "attachments": {},
   "cell_type": "markdown",
   "metadata": {},
   "source": [
    "||Arrays|Linked List|\n",
    "|---|---|---|\n",
    "|Reading|$O(1)$|$O(n)$|\n",
    "|Insertion|$O(n)$|$O(1)$|\n",
    "|Deletion|$O(n)$|$O(1)$|\n",
    "\n",
    "$O(n) =$ Linear time\n",
    "\n",
    "$O(1) =$ Constant time"
   ]
  },
  {
   "attachments": {},
   "cell_type": "markdown",
   "metadata": {},
   "source": [
    "## Exercises\n",
    "---\n",
    "2.1 ... So, you have lots of insert and a few reads. Should you use an array or a list\n",
    "\n",
    "> *Answer*: Linked list\n",
    "\n",
    "> **Result**: Linked list\n",
    "\n",
    "2.2 ... your're building an app for restaurant to take customer orders. Your app needs to store a list of order. Servers keep adding orders to this list, and chefs take orders off the list...It's an order queue...Would you use an array or a linked list to implement this queue?\n",
    "\n",
    "> *Answer*: Linked list\n",
    "\n",
    "> **Result**: Linked list\n",
    "\n",
    "2.3 ...Suppose Facebook keeps a list of usernames...a search is done for their username...Binary search needs random access...would you implement the list as an array or a linked list?\n",
    "\n",
    "> *Answer*: Array\n",
    "\n",
    "> **Result**: A sorted array\n",
    "\n",
    "2.4 ...What are the downsides of an array for inserts...suppose you're using binary search to search for login. What happens when you add new users to an array?\n",
    "\n",
    "> *Answer*: In the worst scenario, you will have to insert the new username at the fisrt item in username list and it'll took $O(n)$ (cause you have to move the rest of the items one position forward). You have to look for the position where you can insert the new username, it'll took $O(n-m)$ with $m$ is the location of the new username\n",
    "\n",
    "> **Result**: Inserting into arrays is slow. Also, if you're using binary search to search for usernames, the array needs to be sorted.Suppose someone named *Adit B* signs up for Facebook. Their name will be inserted at the end of the array. So you need to sort the array every time a name is inserted!\n",
    "\n",
    "2.5 ...hybrid data structure: an array of linked lists...Compare this hybrid data structure to arrays and linked lists. Is it slower or faster than each for searching and inserting...\n",
    "\n",
    "> *Answer*: For searching it will faster than linked list and slower than array. For inserting it will faster than array and slower than linked list\n",
    "\n",
    "> **Result**: Searching - slower than array, faster than linked lists. Inserting - faster than arrays, same amount of time as linked lists."
   ]
  },
  {
   "attachments": {},
   "cell_type": "markdown",
   "metadata": {},
   "source": [
    "## Selection sort\n",
    "---\n",
    "Sort descending is an example of selection sort\n",
    "\n",
    "This take $O(n^2)$ time"
   ]
  },
  {
   "cell_type": "code",
   "execution_count": 12,
   "metadata": {},
   "outputs": [
    {
     "name": "stdout",
     "output_type": "stream",
     "text": [
      "[2, 3, 4, 9, 1]\n",
      "[1, 2, 3, 4, 9]\n"
     ]
    }
   ],
   "source": [
    "def findSmallest(arr):\n",
    "    smallest = arr[0]\n",
    "    smallest_idx = 0\n",
    "    for i in range(1, len(arr)):\n",
    "        if arr[i] < smallest:\n",
    "            smallest = arr[i]\n",
    "            smallest_idx = i\n",
    "    return smallest_idx\n",
    "\n",
    "def selectionSort(arr, ascending=True):\n",
    "    newArr = []\n",
    "    for i in range(len(arr)):\n",
    "        smallest_idx = findSmallest(arr)\n",
    "        newArr.append(arr.pop(smallest_idx))\n",
    "\n",
    "    return newArr if ascending else newArr[::-1]\n",
    "\n",
    "np.random.seed(1)\n",
    "my_list = np.random.choice(11, size=5, replace=False).tolist()\n",
    "\n",
    "print(my_list)\n",
    "print(selectionSort(my_list))"
   ]
  },
  {
   "attachments": {},
   "cell_type": "markdown",
   "metadata": {},
   "source": [
    "## Recap\n",
    "---\n",
    "* Your computer's memory is like a giant set of drawers.\n",
    "* When you want to store multiple elements, use an array or list.\n",
    "* With an array, all your elements are stored right next to each other.\n",
    "* With a list, elements are strewn all over, and one elements stores the address for the next one.\n",
    "* Array allow fast reads.\n",
    "* Linked lists allow fast inserts and reads\n",
    "* All elements in the array should be the same type (all ints, all doubles and so on)."
   ]
  }
 ],
 "metadata": {
  "kernelspec": {
   "display_name": "_work",
   "language": "python",
   "name": "python3"
  },
  "language_info": {
   "codemirror_mode": {
    "name": "ipython",
    "version": 3
   },
   "file_extension": ".py",
   "mimetype": "text/x-python",
   "name": "python",
   "nbconvert_exporter": "python",
   "pygments_lexer": "ipython3",
   "version": "3.8.13"
  },
  "orig_nbformat": 4,
  "vscode": {
   "interpreter": {
    "hash": "cf1d69bb0d2a12e61490889161fcacd2800262e0ab5a40aa691e442a23156cde"
   }
  }
 },
 "nbformat": 4,
 "nbformat_minor": 2
}
