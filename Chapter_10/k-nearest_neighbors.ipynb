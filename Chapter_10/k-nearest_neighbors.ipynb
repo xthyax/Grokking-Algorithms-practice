{
 "cells": [
  {
   "attachments": {},
   "cell_type": "markdown",
   "metadata": {},
   "source": [
    "## In this chapter\n",
    "---\n",
    "* You learn to build a classification system using the k-nearest neighbors algorithm.\n",
    "* You learn about feature extraction.\n",
    "* You learn about regression: predicting a number, like the value of a stock tomorrow, or how much user will enjoy a movie.\n",
    "* You learn about the use cases and limitations of k-nearest neightbors."
   ]
  },
  {
   "attachments": {},
   "cell_type": "markdown",
   "metadata": {},
   "source": [
    "## Exercises\n",
    "---\n",
    "10.1 In the Netflix...How would you take their different rating strategies into account?\n",
    "> *Answer*: Can convert the 5 star rating into different scaler: Like(5s & 4s) - Neutral(3s) and Dislike(below 2s)\n",
    "\n",
    "10.2 Suppose Netflix...How would change the recommendation system...?\n",
    "> *Answer*: The easiest way is to weights the influencers rating"
   ]
  }
 ],
 "metadata": {
  "kernelspec": {
   "display_name": "Python 3",
   "language": "python",
   "name": "python3"
  },
  "language_info": {
   "name": "python",
   "version": "3.8.9"
  },
  "orig_nbformat": 4,
  "vscode": {
   "interpreter": {
    "hash": "31f2aee4e71d21fbe5cf8b01ff0e069b9275f58929596ceb00d14d90e3e16cd6"
   }
  }
 },
 "nbformat": 4,
 "nbformat_minor": 2
}
