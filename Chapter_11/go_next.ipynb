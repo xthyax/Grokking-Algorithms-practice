{
 "cells": [
  {
   "attachments": {},
   "cell_type": "markdown",
   "metadata": {},
   "source": [
    "## In this chapter\n",
    "---\n",
    "* Brieft overview of 10 algorithms, and why they're useful"
   ]
  },
  {
   "attachments": {},
   "cell_type": "markdown",
   "metadata": {},
   "source": [
    "### Binary search tree\n",
    "\n",
    "Database structures\n",
    "* The left of the node containing smaller value than the node\n",
    "* The right of the node containing larger value than the node\n",
    "\n",
    "|      |Array|Binary Search Tree|\n",
    "|-|-|-|\n",
    "|SEARCH|$$O(\\log n)$$|$$O(\\log n)$$|\n",
    "|INSERT|$$O(n)$$|$$O(\\log n)$$|\n",
    "|DELETE|$$O(n)$$|$$O(\\log n)$$|\n",
    "\n"
   ]
  },
  {
   "attachments": {},
   "cell_type": "markdown",
   "metadata": {},
   "source": [
    "### Inverted indexes\n",
    "---\n",
    "\n",
    "A hash table from the content, with the words are keys, and the values tell what pages/paragraph/sentence each word appears on\n",
    "\n",
    "-> Commonly used to build search engines"
   ]
  },
  {
   "attachments": {},
   "cell_type": "markdown",
   "metadata": {},
   "source": [
    "### Fourier transfrom\n",
    "---\n",
    "\n",
    "* Example description: Give a smoothie, the Fourier transform will tell you the ingredients in the smoothie\n",
    "\n",
    "Application:\n",
    "* Seperate a song into frequencies, to boots the bass and hide the treble for example\n",
    "* Predict upcoming earthquakes and analyze DNA\n",
    "* Guesses what song is playing"
   ]
  },
  {
   "attachments": {},
   "cell_type": "markdown",
   "metadata": {},
   "source": [
    "### Parallel algorithms\n",
    "---\n",
    "Theoretical side of performance and scalability"
   ]
  },
  {
   "attachments": {},
   "cell_type": "markdown",
   "metadata": {},
   "source": [
    "### MapReduce\n",
    "---\n",
    "Popular distributed algorithm to run across multiple machines"
   ]
  },
  {
   "cell_type": "code",
   "execution_count": 3,
   "metadata": {},
   "outputs": [
    {
     "data": {
      "text/plain": [
       "[2, 4, 6, 8, 10]"
      ]
     },
     "execution_count": 3,
     "metadata": {},
     "output_type": "execute_result"
    }
   ],
   "source": [
    "\"\"\"\n",
    "    Map function\n",
    "\"\"\"\n",
    "arr1 = [1,2,3,4,5]\n",
    "arr2 = map(lambda x: 2 * x, arr1)\n",
    "list(arr2)"
   ]
  },
  {
   "cell_type": "code",
   "execution_count": 4,
   "metadata": {},
   "outputs": [
    {
     "data": {
      "text/plain": [
       "15"
      ]
     },
     "execution_count": 4,
     "metadata": {},
     "output_type": "execute_result"
    }
   ],
   "source": [
    "from functools import reduce\n",
    "arr3 = reduce(lambda x,y: x+y, arr1)\n",
    "arr3"
   ]
  },
  {
   "attachments": {},
   "cell_type": "markdown",
   "metadata": {},
   "source": [
    "**MapReduce** use two simple confepts above to run queries abouth data across multiple machines."
   ]
  },
  {
   "attachments": {},
   "cell_type": "markdown",
   "metadata": {},
   "source": [
    "### Bloom filters and HyperLogLog\n",
    "---\n",
    "**Bloom filter**:\n",
    "* Bloom filters are *probabilistic data structures*. A bloom filter will give you an answer that's probably correct:\n",
    "    * False positives are possible\n",
    "    * False negatives aren't possible\n",
    "* Bloom filter take up veri little space.\n",
    "\n",
    "**HyperLogLog**:\n",
    "* Count the number of *unique* searches perfromed by its users giving approximates the number of unique elements in a set"
   ]
  },
  {
   "attachments": {},
   "cell_type": "markdown",
   "metadata": {},
   "source": [
    "### The SHA algorithms\n",
    "---\n",
    "SHA is a *hash function*. It generates a hash, which is a short string.\n",
    "\n",
    "Hash function went from string to array index, SHA goes from string to string.\n",
    "\n",
    "Application:\n",
    "* Checking passwords - instead of storing user password, Gmail store hash of the password\n",
    "\n",
    "\n"
   ]
  }
 ],
 "metadata": {
  "kernelspec": {
   "display_name": "_work",
   "language": "python",
   "name": "python3"
  },
  "language_info": {
   "codemirror_mode": {
    "name": "ipython",
    "version": 3
   },
   "file_extension": ".py",
   "mimetype": "text/x-python",
   "name": "python",
   "nbconvert_exporter": "python",
   "pygments_lexer": "ipython3",
   "version": "3.8.13"
  },
  "orig_nbformat": 4,
  "vscode": {
   "interpreter": {
    "hash": "cf1d69bb0d2a12e61490889161fcacd2800262e0ab5a40aa691e442a23156cde"
   }
  }
 },
 "nbformat": 4,
 "nbformat_minor": 2
}
