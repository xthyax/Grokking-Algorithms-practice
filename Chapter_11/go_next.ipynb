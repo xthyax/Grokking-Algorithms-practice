{
 "cells": [
  {
   "attachments": {},
   "cell_type": "markdown",
   "metadata": {},
   "source": [
    "## In this chapter\n",
    "---\n",
    "* Brieft overview of 10 algorithms, and why they're useful"
   ]
  },
  {
   "attachments": {},
   "cell_type": "markdown",
   "metadata": {},
   "source": [
    "### Binary search tree\n",
    "\n",
    "Database structures\n",
    "* The left of the node containing smaller value than the node\n",
    "* The right of the node containing larger value than the node\n",
    "\n",
    "|      |Array|Binary Search Tree|\n",
    "|-|-|-|\n",
    "|SEARCH|$$O(\\log n)$$|$$O(\\log n)$$|\n",
    "|INSERT|$$O(n)$$|$$O(\\log n)$$|\n",
    "|DELETE|$$O(n)$$|$$O(\\log n)$$|\n",
    "\n"
   ]
  },
  {
   "attachments": {},
   "cell_type": "markdown",
   "metadata": {},
   "source": [
    "### Inverted indexes\n",
    "---\n",
    "\n",
    "A hash table from the content, with the words are keys, and the values tell what pages/paragraph/sentence each word appears on\n",
    "\n",
    "-> Commonly used to build search engines"
   ]
  },
  {
   "attachments": {},
   "cell_type": "markdown",
   "metadata": {},
   "source": [
    "### Fourier transfrom\n",
    "---\n",
    "\n",
    "* Example description: Give a smoothie, the Fourier transform will tell you the ingredients in the smoothie\n",
    "\n",
    "Application:\n",
    "* Seperate a song into frequencies, to boots the bass and hide the treble for example\n",
    "* Predict upcoming earthquakes and analyze DNA\n",
    "* Guesses what song is playing"
   ]
  }
 ],
 "metadata": {
  "kernelspec": {
   "display_name": "_work",
   "language": "python",
   "name": "python3"
  },
  "language_info": {
   "name": "python",
   "version": "3.8.13"
  },
  "orig_nbformat": 4,
  "vscode": {
   "interpreter": {
    "hash": "cf1d69bb0d2a12e61490889161fcacd2800262e0ab5a40aa691e442a23156cde"
   }
  }
 },
 "nbformat": 4,
 "nbformat_minor": 2
}
