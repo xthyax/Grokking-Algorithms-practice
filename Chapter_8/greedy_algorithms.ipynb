{
 "cells": [
  {
   "attachments": {},
   "cell_type": "markdown",
   "metadata": {},
   "source": [
    "## Exercises\n",
    "---\n",
    "8.1 ...\n",
    "> *Answer*: Pick the biggest box first, and then go with the 2-nd biggest box and so on.\n",
    ">\n",
    "> **Result**: A greedy strategy would be to pick the largest box that will fit in the remaining space, and repeat until you can't pack any more boxes. No, this won't give you the optimal solution.\n",
    "\n",
    "8.2 ...\n",
    "> *Answer*: Pick the first biggest point value, and then expand to the neighbor area have biggest point value and so on.\n",
    ">\n",
    "> **Result**: Keep picking the activity with the highest point value that you can still do in the time you have left. Stop when you can't do anything else. No, this won't give you the optimal solution."
   ]
  },
  {
   "cell_type": "code",
   "execution_count": 3,
   "metadata": {},
   "outputs": [],
   "source": [
    "states_needed = set([\"mt\", \"wa\", \"or\", \n",
    "\"id\", \"nv\", \"ut\",\"ca\", \"az\"])\n",
    "\n",
    "stations = {}\n",
    "stations[\"kone\"] = set([\"id\", \"nv\", \"ut\"])\n",
    "stations[\"ktwo\"] = set([\"wa\", \"id\", \"mt\"])\n",
    "stations[\"kthree\"] = set([\"or\", \"nv\", \"ca\"])\n",
    "stations[\"kfour\"] = set([\"nv\", \"ut\"])\n",
    "stations[\"kfive\"] = set([\"ca\", \"az\"])\n",
    "\n",
    "final_stations = set()"
   ]
  },
  {
   "cell_type": "code",
   "execution_count": 7,
   "metadata": {},
   "outputs": [
    {
     "name": "stdout",
     "output_type": "stream",
     "text": [
      "{'kfive', 'kone', 'ktwo', 'kthree'}\n"
     ]
    }
   ],
   "source": [
    "while states_needed:\n",
    "    best_station = None\n",
    "    states_covered = set()\n",
    "    for station, states_for_station in stations.items():\n",
    "        covered = states_needed & states_for_station\n",
    "        if len(covered) > len(states_covered):\n",
    "            best_station = station\n",
    "            states_covered = covered\n",
    "\n",
    "    states_needed -= states_covered\n",
    "    final_stations.add(best_station)\n",
    "\n",
    "print(final_stations)"
   ]
  },
  {
   "attachments": {},
   "cell_type": "markdown",
   "metadata": {},
   "source": [
    "|No. Stations|$$O(n!)$$ Exact Algorithm| $$O(n^2)$$ Greedy Algorithm |\n",
    "|-|-|-|\n",
    "|5|3.2 sec|2.5 sec|\n",
    "|10|102.4 sec|10 sec|\n",
    "|32| 13.6 yrs|102.4 sec|\n",
    "|100|  4 x 10^21 yrs| 16.67 min|"
   ]
  },
  {
   "attachments": {},
   "cell_type": "markdown",
   "metadata": {},
   "source": [
    "## Exercises\n",
    "---\n",
    "For each of these algorithms, say whether it's a greedy algorithm or not.\n",
    "\n",
    "8.3 Quicksort\n",
    "> *Answer*: When in worst case cause Quicksort worst case is O(n^2)\n",
    ">\n",
    "> **Result**: No\n",
    "\n",
    "8.4 Breadth-first search\n",
    "> *Answer*: Not a greedy algorithm\n",
    ">\n",
    "> **Result**: Yes\n",
    "\n",
    "8.5 Dijkstra's algorithm\n",
    "> *Answer*: Not a greedy algorithm\n",
    ">\n",
    "> **Result**: Yes"
   ]
  },
  {
   "attachments": {},
   "cell_type": "markdown",
   "metadata": {},
   "source": [
    "## Exercises\n",
    "---\n",
    "8.6 A postman needs... Is this an NP-complete problem?\n",
    "> *Answer*: This is an NP problem\n",
    ">\n",
    "> **Result**: Yes\n",
    "\n",
    "8.7 Finding the largest... Is this an NP-complete problem?\n",
    "> *Answer*:\n",
    ">\n",
    "> **Result**: Yes\n",
    "\n",
    "8.8 Your're making a map of the USE... Is this an NP-complete problem?\n",
    "> *Answer*: This is an NP problem\n",
    ">\n",
    "> **Result**: Yes"
   ]
  },
  {
   "attachments": {},
   "cell_type": "markdown",
   "metadata": {},
   "source": [
    "## Recap\n",
    "---\n",
    "* Greedy algorithms optimize locally, hoping to end up with a global optimum.\n",
    "* NP-complete problems have no know fast solution.\n",
    "* If you have an NP-complete problem, your best bet is to use and approximation algorithm.\n",
    "* Greedy algorithms are easy to write and fast to run, so they make good approximation algorithms."
   ]
  }
 ],
 "metadata": {
  "kernelspec": {
   "display_name": "_work",
   "language": "python",
   "name": "python3"
  },
  "language_info": {
   "codemirror_mode": {
    "name": "ipython",
    "version": 3
   },
   "file_extension": ".py",
   "mimetype": "text/x-python",
   "name": "python",
   "nbconvert_exporter": "python",
   "pygments_lexer": "ipython3",
   "version": "3.8.13"
  },
  "orig_nbformat": 4,
  "vscode": {
   "interpreter": {
    "hash": "cf1d69bb0d2a12e61490889161fcacd2800262e0ab5a40aa691e442a23156cde"
   }
  }
 },
 "nbformat": 4,
 "nbformat_minor": 2
}
