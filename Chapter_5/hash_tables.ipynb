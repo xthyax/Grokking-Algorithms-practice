{
 "cells": [
  {
   "attachments": {},
   "cell_type": "markdown",
   "metadata": {},
   "source": [
    "## Import libs"
   ]
  },
  {
   "cell_type": "code",
   "execution_count": 1,
   "metadata": {},
   "outputs": [],
   "source": [
    "import numpy as np\n"
   ]
  },
  {
   "attachments": {},
   "cell_type": "markdown",
   "metadata": {},
   "source": [
    "## Exercies\n",
    "---\n",
    "Which of these hash functions are consistent?\n",
    "5.1 f(x) = 1\n",
    "> *Answer*: This is not consider as a hash table \n",
    "\n",
    "> **Result**: Consistent\n",
    "\n",
    "5.2 f(x) = rand()\n",
    "> *Answer*: No\n",
    "\n",
    "> **Result**: Not consistent\n",
    "\n",
    "5.3 f(x) = next_empty_slot()\n",
    "> *Answer*: No\n",
    "\n",
    "> **Result**: Not consistent\n",
    "\n",
    "5.4 f(x) = len(x)\n",
    "> *Answer*: Yes\n",
    "\n",
    "> **Result**: Consistent"
   ]
  },
  {
   "cell_type": "code",
   "execution_count": null,
   "metadata": {},
   "outputs": [],
   "source": [
    "voted = {}\n",
    "def check_voter(name):\n",
    "    if voted.get(name): print(\"kick them out\")\n",
    "    else: \n",
    "        voted[name] = True\n",
    "        print(\"let them vote!\")"
   ]
  },
  {
   "attachments": {},
   "cell_type": "markdown",
   "metadata": {},
   "source": [
    "## Recap\n",
    "---\n",
    "Hashes are good for\n",
    "* Modeling relationships from one thing to another thing\n",
    "* Filtering out duplicates\n",
    "* Caching/Memorizing data instead of making your server do work"
   ]
  },
  {
   "attachments": {},
   "cell_type": "markdown",
   "metadata": {},
   "source": [
    "## Exercises\n",
    "---\n",
    "5.5 A phonebook where the keys are names and values are phone\n",
    "numbers. he names are as follows: Esther, Ben, Bob, and Dan.\n",
    "> *Answer*: D\n",
    "\n",
    "> **Result**: C, D\n",
    "\n",
    "5.6 A mapping from battery size to power. he sizes are A, AA, AAA,\n",
    "and AAAA.\n",
    "> *Answer*: B\n",
    "\n",
    "> **Result**: B, D\n",
    "\n",
    "5.7 A mapping from book titles to authors. he titles are Maus, Fun\n",
    "Home, and Watchmen\n",
    "> *Answer*: B, D\n",
    "\n",
    "> **Result**: B, C, D"
   ]
  },
  {
   "attachments": {},
   "cell_type": "markdown",
   "metadata": {},
   "source": [
    "## Recap\n",
    "---\n",
    "* You can make a hash table by combining a hash function with an array\n",
    "* Collisions are bad. You need a hash funtion that minimize collisions.\n",
    "* Hash tables have really fast search, insert, and delete.\n",
    "* Hash tables are good for modeling relationships from one item to another item\n",
    "* Once your load factor is greater than 0.7, it's time to resize your hash table\n",
    "* Hash tables are used for caching data (for example, with a web server).\n",
    "* Hash tables are great for catching duplicates."
   ]
  }
 ],
 "metadata": {
  "kernelspec": {
   "display_name": "_work",
   "language": "python",
   "name": "python3"
  },
  "language_info": {
   "codemirror_mode": {
    "name": "ipython",
    "version": 3
   },
   "file_extension": ".py",
   "mimetype": "text/x-python",
   "name": "python",
   "nbconvert_exporter": "python",
   "pygments_lexer": "ipython3",
   "version": "3.8.13"
  },
  "orig_nbformat": 4,
  "vscode": {
   "interpreter": {
    "hash": "cf1d69bb0d2a12e61490889161fcacd2800262e0ab5a40aa691e442a23156cde"
   }
  }
 },
 "nbformat": 4,
 "nbformat_minor": 2
}
