{
 "cells": [
  {
   "attachments": {},
   "cell_type": "markdown",
   "metadata": {},
   "source": [
    "## Import libs"
   ]
  },
  {
   "cell_type": "code",
   "execution_count": 1,
   "metadata": {},
   "outputs": [],
   "source": [
    "import numpy as np\n"
   ]
  },
  {
   "cell_type": "code",
   "execution_count": 4,
   "metadata": {},
   "outputs": [
    {
     "data": {
      "text/plain": [
       "1"
      ]
     },
     "execution_count": 4,
     "metadata": {},
     "output_type": "execute_result"
    }
   ],
   "source": [
    "# you can write to stdout for debugging purposes, e.g.\n",
    "# print(\"this is a debug message\")\n",
    "\n",
    "def solution(A):\n",
    "    # Implement your solution here\n",
    "    # Sort list A first\n",
    "    A = quicksort(A)\n",
    "    result = smallest_positive(A)\n",
    "\n",
    "    if result == 0:\n",
    "        if A[0] < 0:\n",
    "            return 1\n",
    "        else:\n",
    "            return A[-1] + 1\n",
    "\n",
    "    return result\n",
    "\n",
    "def smallest_positive(A):\n",
    "    if len(A) == 1:\n",
    "        return 0\n",
    "        \n",
    "    else:\n",
    "        sub_value = A[1] - A[0]\n",
    "        if sub_value == 2 and A[1] > 0 and A[0] > 0:\n",
    "            return A[0] + 1            \n",
    "\n",
    "        return smallest_positive(A[1:])\n",
    "\n",
    "def quicksort(array):\n",
    "    if len(array) < 2:\n",
    "        return array\n",
    "\n",
    "    else:\n",
    "        pivot = array[0]\n",
    "        less = [i for i in array[1:] if i <= pivot]\n",
    "        greater = [i for i in array[1:] if i > pivot]\n",
    "\n",
    "    return quicksort(less) + [pivot] + quicksort(greater)\n",
    "\n",
    "solution([-1,-3])"
   ]
  },
  {
   "cell_type": "code",
   "execution_count": 19,
   "metadata": {},
   "outputs": [
    {
     "name": "stdout",
     "output_type": "stream",
     "text": [
      "dict_keys([8, 7, 2, 1])\n"
     ]
    },
    {
     "data": {
      "text/plain": [
       "0"
      ]
     },
     "execution_count": 19,
     "metadata": {},
     "output_type": "execute_result"
    }
   ],
   "source": [
    "from collections import defaultdict\n",
    "def solution(A):\n",
    "    # Implement your solution here\n",
    "\n",
    "    hashmap = defaultdict(list) # Create a hashmap\n",
    "    A_sorted = quicksort_desc(A)\n",
    "    # Loop over all items in list A\n",
    "    for item in A_sorted:\n",
    "        hashmap[item].append(item)\n",
    "        # Check if number of occurs item match with the item\n",
    "    print (hashmap.keys())\n",
    "    # Return 0 if found no match\n",
    "    return 0\n",
    "\n",
    "def quicksort_desc(array):\n",
    "    if len(array) < 2:\n",
    "        return array\n",
    "\n",
    "    else:\n",
    "        pivot = array[0]\n",
    "        less = [i for i in array[1:] if i <= pivot]\n",
    "        greater = [i for i in array[1:] if i > pivot]\n",
    "\n",
    "        return quicksort_desc(greater) + [pivot] + quicksort_desc(less)\n",
    "\n",
    "solution([7, 1, 2, 8, 2])"
   ]
  }
 ],
 "metadata": {
  "kernelspec": {
   "display_name": "_work",
   "language": "python",
   "name": "python3"
  },
  "language_info": {
   "codemirror_mode": {
    "name": "ipython",
    "version": 3
   },
   "file_extension": ".py",
   "mimetype": "text/x-python",
   "name": "python",
   "nbconvert_exporter": "python",
   "pygments_lexer": "ipython3",
   "version": "3.8.13"
  },
  "orig_nbformat": 4,
  "vscode": {
   "interpreter": {
    "hash": "6c638eb89f014b66b0d27c9448b9f799964500fae236ec6ed42d746cec1b1ef2"
   }
  }
 },
 "nbformat": 4,
 "nbformat_minor": 2
}
