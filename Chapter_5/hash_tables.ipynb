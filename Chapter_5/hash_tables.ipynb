{
 "cells": [
  {
   "attachments": {},
   "cell_type": "markdown",
   "metadata": {},
   "source": [
    "## Import libs"
   ]
  },
  {
   "cell_type": "code",
   "execution_count": 1,
   "metadata": {},
   "outputs": [],
   "source": [
    "import numpy as np\n"
   ]
  },
  {
   "cell_type": "code",
   "execution_count": 8,
   "metadata": {},
   "outputs": [
    {
     "data": {
      "text/plain": [
       "1"
      ]
     },
     "execution_count": 8,
     "metadata": {},
     "output_type": "execute_result"
    }
   ],
   "source": [
    "# you can write to stdout for debugging purposes, e.g.\n",
    "# print(\"this is a debug message\")\n",
    "\n",
    "def solution(A):\n",
    "    # Implement your solution here\n",
    "    # Sort list A first\n",
    "    A = quicksort(A)\n",
    "    result = smallest_positive(A)\n",
    "\n",
    "    if result == 0:\n",
    "        if A[0] < 0:\n",
    "            return 1\n",
    "        else:\n",
    "            return A[-1] + 1\n",
    "\n",
    "    return result\n",
    "\n",
    "def smallest_positive(A):\n",
    "    if len(A) == 1:\n",
    "        return 0\n",
    "        \n",
    "    else:\n",
    "        sub_value = A[1] - A[0]\n",
    "        if sub_value == 2:\n",
    "            return A[0] + 1            \n",
    "\n",
    "        return smallest_positive(A[1:])\n",
    "\n",
    "def quicksort(array):\n",
    "    if len(array) < 2:\n",
    "        return array\n",
    "\n",
    "    else:\n",
    "        pivot = array[0]\n",
    "        less = [i for i in array[1:] if i <= pivot]\n",
    "        greater = [i for i in array[1:] if i > pivot]\n",
    "\n",
    "    return quicksort(less) + [pivot] + quicksort(greater)\n",
    "\n",
    "solution([-1,-2,-3])"
   ]
  }
 ],
 "metadata": {
  "kernelspec": {
   "display_name": "_work",
   "language": "python",
   "name": "python3"
  },
  "language_info": {
   "codemirror_mode": {
    "name": "ipython",
    "version": 3
   },
   "file_extension": ".py",
   "mimetype": "text/x-python",
   "name": "python",
   "nbconvert_exporter": "python",
   "pygments_lexer": "ipython3",
   "version": "3.8.13"
  },
  "orig_nbformat": 4,
  "vscode": {
   "interpreter": {
    "hash": "cf1d69bb0d2a12e61490889161fcacd2800262e0ab5a40aa691e442a23156cde"
   }
  }
 },
 "nbformat": 4,
 "nbformat_minor": 2
}
